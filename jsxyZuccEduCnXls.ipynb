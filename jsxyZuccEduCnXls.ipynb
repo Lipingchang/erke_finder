{
 "cells": [
  {
   "cell_type": "code",
   "execution_count": 14,
   "metadata": {},
   "outputs": [],
   "source": [
    "from selenium import webdriver\n",
    "from selenium.webdriver.chrome.options import Options\n",
    "from selenium.webdriver.common.by import By\n",
    "from selenium.webdriver.support.ui import WebDriverWait\n",
    "from selenium.webdriver.support import expected_conditions as EC\n",
    "import time;  # 引入time模块\n",
    "import requests\n",
    "\n",
    "maxPage = 7    #遍历的页数区间\n",
    "nowPage = 0\n",
    "mySno = \"你的学号\"\n",
    "rootUrl = \"http://jsxy.zucc.edu.cn\"\n",
    "chrome_options=Options()\n",
    "#设置chrome浏览器无界面模式\n",
    "#chrome_options.add_argument('--headless')\n",
    "#设置代理\n",
    "#PROXY = \"x.x.x.x:1080\";\n",
    "# Create a copy of desired capabilities object.\n",
    "#desired_capabilities = webdriver.DesiredCapabilities.INTERNETEXPLORER.copy()\n",
    "# Change the proxy properties of that copy.\n",
    "# desired_capabilities['proxy'] = {\n",
    "#     \"httpProxy\":PROXY,\n",
    "#     \"ftpProxy\":PROXY,\n",
    "#     \"sslProxy\":PROXY,\n",
    "#     \"noProxy\":None,\n",
    "#     \"proxyType\":\"MANUAL\",\n",
    "#     \"class\":\"org.openqa.selenium.Proxy\",\n",
    "#     \"autodetect\":False\n",
    "# }\n",
    "#建立浏览器实例\n",
    "browser = webdriver.Chrome()\n",
    "# browser = webdriver.Chrome(chrome_options=chrome_options,desired_capabilities =desired_capabilities )\n",
    "# 开始请求\n",
    "browser.implicitly_wait(10) # seconds\n",
    "\n",
    "\n"
   ]
  },
  {
   "cell_type": "code",
   "execution_count": 15,
   "metadata": {},
   "outputs": [],
   "source": [
    "def go_to_erke_page(browser):    \n",
    "    alinks = browser.find_elements_by_tag_name('a')   #在官网首页找到所有<a>标签\n",
    "    for x in alinks:\n",
    "        if x.get_attribute('innerHTML')=='第二课堂':  #在找到标签中是“第二课堂”的\n",
    "            root_url = x.get_attribute('href')        #获取超链接\n",
    "    browser.get(root_url)                             #跳转到第二课堂页面"
   ]
  },
  {
   "cell_type": "code",
   "execution_count": 16,
   "metadata": {},
   "outputs": [],
   "source": [
    "def get_all_link_in_maindiv(browser):                 #列表解析，返回第二课堂列表页面每条标题和超链接\n",
    "    maindiv = browser.find_element_by_class_name(\"default_pgContainer\")\n",
    "    return [{'title':x.get_attribute('innerHTML'),'src':x.get_attribute('href')} for x in maindiv.find_elements_by_xpath(\".//a\")]"
   ]
  },
  {
   "cell_type": "code",
   "execution_count": 17,
   "metadata": {},
   "outputs": [],
   "source": [
    "def go_to_next_page(browser):                         #跳转到下一页\n",
    "    alinks = browser.find_elements_by_tag_name('a')\n",
    "    nextPage = filter(lambda alink:alink.get_attribute('title').find('下页')!=-1, alinks)\n",
    "    nextPage = list(nextPage)[0]\n",
    "    while( True ):\n",
    "        try:\n",
    "            nextPage.click()\n",
    "            break;\n",
    "        except:\n",
    "            print('watting btn clickable..')\n",
    "            time.sleep(1)\n",
    "            continue"
   ]
  },
  {
   "cell_type": "code",
   "execution_count": 18,
   "metadata": {},
   "outputs": [],
   "source": [
    "def find_xls_files(browser):      #找到页面中的文件，返回文件名和超链接列表\n",
    "    alinks = browser.find_elements_by_tag_name('a')\n",
    "    xlsdownloads = filter(lambda alink:alink.get_attribute('href').find('.xls')!=-1, alinks)\n",
    "    return [{'filename':x.get_attribute('text'),'src':x.get_attribute('href')} for x in xlsdownloads]"
   ]
  },
  {
   "cell_type": "code",
   "execution_count": 19,
   "metadata": {},
   "outputs": [
    {
     "name": "stdout",
     "output_type": "stream",
     "text": [
      "watting btn clickable..\n",
      "watting btn clickable..\n",
      "watting btn clickable..\n",
      "watting btn clickable..\n"
     ]
    }
   ],
   "source": [
    "browser.get(rootUrl)\n",
    "xlsfilesSRC = []\n",
    "\n",
    "\n",
    "go_to_erke_page(browser)\n",
    "while nowPage<maxPage:\n",
    "    nowPage = nowPage + 1\n",
    "    pages = get_all_link_in_maindiv(browser)\n",
    "    currentUrl = browser.current_url;\n",
    "    for page in pages:\n",
    "        browser.get(page['src'])\n",
    "        xlsfilesSRC = xlsfilesSRC + find_xls_files(browser)     #找出各个页面的文件超链接存入列表中\n",
    "    browser.get(currentUrl)\n",
    "    go_to_next_page(browser)"
   ]
  },
  {
   "cell_type": "code",
   "execution_count": 20,
   "metadata": {},
   "outputs": [],
   "source": [
    "tmpfilepath = 'tmp.xls'\n",
    "def download_to_tmpfile(downloadurl):\n",
    "    r = requests.get(downloadurl) \n",
    "    with open(tmpfilepath,'wb') as f:  #打开一个tmp.xls文件用于写入下载下来的文件内容\n",
    "        f.write(r.content)\n",
    "    f.close()\n"
   ]
  },
  {
   "cell_type": "code",
   "execution_count": 21,
   "metadata": {},
   "outputs": [],
   "source": [
    "import xlrd  #读excel的库\n",
    "\n",
    "\n",
    "\n"
   ]
  },
  {
   "cell_type": "code",
   "execution_count": 22,
   "metadata": {},
   "outputs": [],
   "source": [
    "def find_rows_in_xls(targetStr):         \n",
    "    data = xlrd.open_workbook(tmpfilepath)  #在Excel中找到目标行，并返回\n",
    "    table = data.sheets()[0] \n",
    "    findRows = []\n",
    "    for row in table.get_rows():\n",
    "        findCells = filter( lambda cell:str(cell.value).find(targetStr)!=-1, row)\n",
    "        if len(list(findCells)) > 0:\n",
    "            findRows.append(row)\n",
    "    return findRows;\n"
   ]
  },
  {
   "cell_type": "code",
   "execution_count": 23,
   "metadata": {},
   "outputs": [],
   "source": [
    "found = []\n",
    "notFound = []\n",
    "\n",
    "for file in xlsfilesSRC:\n",
    "    src = file['src']\n",
    "    download_to_tmpfile(src)\n",
    "    findRow = find_rows_in_xls(mySno)\n",
    "    if len(findRow) > 0 :\n",
    "        found.append({'file':file,'rows':findRow[0]}) # TODO 一个文件中找到多个\n",
    "    else:\n",
    "        notFound.append(file)"
   ]
  },
  {
   "cell_type": "code",
   "execution_count": 24,
   "metadata": {},
   "outputs": [],
   "source": [
    "len(found)\n",
    "import xlwt  #写excel的库\n",
    "\n",
    "outFile=xlwt.Workbook()                       #将找到的内容写入Excel文件\n",
    "sheet=outFile.add_sheet(\"sheet2\")  \n",
    "sheetTitle = [\"文件名\",'下载路径','合成内容','内容']\n",
    "[sheet.write(0,index,content) for index,content in enumerate(sheetTitle,0)]\n",
    "for row,rec in enumerate(found,1):\n",
    "    sheet.write(row,0,rec['file']['filename'])\n",
    "    sheet.write(row,1,rec['file']['src'])\n",
    "    sheet.write(row,2, \" \".join(list(map(lambda cell:str(cell.value),rec['rows']))) ) # TODO number类型的cell会带小数点\n",
    "    for column,text in enumerate(rec['rows'],3):\n",
    "        sheet.write(row,column,text.value)\n",
    "outFile.save(mySno+\"找到的.xls\") \n"
   ]
  },
  {
   "cell_type": "code",
   "execution_count": null,
   "metadata": {},
   "outputs": [],
   "source": []
  }
 ],
 "metadata": {
  "kernelspec": {
   "display_name": "Python 3",
   "language": "python",
   "name": "python3"
  },
  "language_info": {
   "codemirror_mode": {
    "name": "ipython",
    "version": 3
   },
   "file_extension": ".py",
   "mimetype": "text/x-python",
   "name": "python",
   "nbconvert_exporter": "python",
   "pygments_lexer": "ipython3",
   "version": "3.7.0"
  }
 },
 "nbformat": 4,
 "nbformat_minor": 2
}
